{
 "cells": [
  {
   "cell_type": "markdown",
   "metadata": {},
   "source": [
    "# Model Server"
   ]
  },
  {
   "cell_type": "code",
   "execution_count": 1,
   "metadata": {},
   "outputs": [],
   "source": [
    "import nuclio"
   ]
  },
  {
   "cell_type": "code",
   "execution_count": 6,
   "metadata": {},
   "outputs": [
    {
     "name": "stdout",
     "output_type": "stream",
     "text": [
      "%nuclio: setting kind to 'nuclio'\n"
     ]
    }
   ],
   "source": [
    "%nuclio config kind = \"nuclio\""
   ]
  },
  {
   "cell_type": "code",
   "execution_count": 7,
   "metadata": {},
   "outputs": [
    {
     "name": "stdout",
     "output_type": "stream",
     "text": [
      "%nuclio: setting 'FEATURES_TABLE' environment variable\n",
      "%nuclio: setting 'PREDICTIONS_TABLE' environment variable\n",
      "%nuclio: setting 'prediction_col' environment variable\n",
      "%nuclio: setting '# model_path' environment variable\n",
      "%nuclio: setting 'model_path' environment variable\n"
     ]
    }
   ],
   "source": [
    "%%nuclio env\n",
    "\n",
    "FEATURES_TABLE = /User/demo-network-operations/streaming/features\n",
    "PREDICTIONS_TABLE = /User/demo-network-operations/streaming/inference_pq\n",
    "prediction_col = predictions\n",
    "# model_path = /User/demo-network-operations/artifacts/model/2/model.pkl\n",
    "model_path = store://network-operations/train_model#f2ea18dd-504d-4d14-83d2-a326fe5afc37"
   ]
  },
  {
   "cell_type": "markdown",
   "metadata": {},
   "source": [
    "## Function"
   ]
  },
  {
   "cell_type": "code",
   "execution_count": 8,
   "metadata": {},
   "outputs": [],
   "source": [
    "# nuclio: start-code"
   ]
  },
  {
   "cell_type": "code",
   "execution_count": 55,
   "metadata": {},
   "outputs": [],
   "source": [
    "import os\n",
    "import pandas as pd\n",
    "import cloudpickle\n",
    "import numpy as np\n",
    "import json\n",
    "from mlrun import get_or_create_ctx"
   ]
  },
  {
   "cell_type": "code",
   "execution_count": 10,
   "metadata": {},
   "outputs": [],
   "source": [
    "def get_data_parquet(context):\n",
    "    mpath = [os.path.join(context.features_table, file) for file in os.listdir(context.features_table) if file.endswith(('parquet', 'pq'))]\n",
    "    files_by_updated = sorted(mpath, key=os.path.getmtime, reverse=True)\n",
    "    return pd.read_parquet(files_by_updated[:1][0])"
   ]
  },
  {
   "cell_type": "code",
   "execution_count": 11,
   "metadata": {},
   "outputs": [],
   "source": [
    "def save_to_parquet(context, df: pd.DataFrame):\n",
    "    print('Saving features to Parquet')\n",
    "    \n",
    "    # Need to fix timestamps from ns to ms if we write to parquet\n",
    "    keys = list(df.index.names)\n",
    "    df = df.reset_index()\n",
    "    df['timestamp'] = df.loc[:, 'timestamp'].astype('datetime64[ms]')\n",
    "    \n",
    "    # Fix indexes\n",
    "    df = df.set_index(keys)\n",
    "    \n",
    "    # Save parquet\n",
    "    first_timestamp = df.index[0][0].strftime('%Y%m%dT%H%M%S')\n",
    "    last_timestamp = df.index[-1][0].strftime('%Y%m%dT%H%M%S')\n",
    "    filename = first_timestamp + '-' + last_timestamp + '.parquet'\n",
    "    filepath = os.path.join(context.predictions_table, filename)\n",
    "    with open(filepath, 'wb+') as f:\n",
    "        df.to_parquet(f)"
   ]
  },
  {
   "cell_type": "code",
   "execution_count": 35,
   "metadata": {},
   "outputs": [],
   "source": [
    "def init_context(context):\n",
    "    # Set vars from env\n",
    "    setattr(context, 'features_table', os.getenv('FEATURES_TABLE', 'netops_features'))\n",
    "    setattr(context, 'predictions_table', os.getenv('PREDICTIONS_TABLE', 'netops_predictions'))\n",
    "    setattr(context, 'prediction_col', os.getenv('prediction_col', 'prediction'))\n",
    "    \n",
    "    # Load model\n",
    "    model_path = os.environ['model_path']\n",
    "    if model_path.startswith('store://'):\n",
    "        mlctx = get_or_create_ctx('inference')\n",
    "        model = mlctx.get_dataitem(model_path)\n",
    "        model_path = os.path.join(model.url, 'model.pkl')\n",
    "    with open(model_path, 'rb') as f:\n",
    "        model = cloudpickle.load(f)\n",
    "    setattr(context, 'model', model)\n",
    "    \n",
    "     # Create saving directory if needed\n",
    "    filepath = os.path.join(context.predictions_table)\n",
    "    if not os.path.exists(filepath):\n",
    "        os.makedirs(filepath)"
   ]
  },
  {
   "cell_type": "code",
   "execution_count": 62,
   "metadata": {},
   "outputs": [],
   "source": [
    "def handler(context, event):\n",
    "    \n",
    "    if getattr(event.trigger, 'kind', 'cron') == 'cron':\n",
    "        # Get latest parquets\n",
    "        df = get_data_parquet(context)\n",
    "\n",
    "        # Call aggregate\n",
    "        df[context.prediction_col] = context.model.predict(df.values)\n",
    "\n",
    "        # Save\n",
    "        save_to_parquet(context, df)\n",
    "    else:\n",
    "        body = json.loads(event.body)\n",
    "        feats = np.asarray(body['instances'])\n",
    "        result: np.ndarray = context.model.predict(feats)\n",
    "        return result.tolist()"
   ]
  },
  {
   "cell_type": "code",
   "execution_count": 63,
   "metadata": {},
   "outputs": [],
   "source": [
    "# nuclio: end-code"
   ]
  },
  {
   "cell_type": "markdown",
   "metadata": {},
   "source": [
    "## Local test"
   ]
  },
  {
   "cell_type": "code",
   "execution_count": 58,
   "metadata": {},
   "outputs": [
    {
     "name": "stdout",
     "output_type": "stream",
     "text": [
      "[mlrun] 2020-07-12 13:08:08,964 logging run results to: http://mlrun-api:8080\n"
     ]
    },
    {
     "name": "stderr",
     "output_type": "stream",
     "text": [
      "/conda/lib/python3.6/site-packages/sklearn/base.py:318: UserWarning: Trying to unpickle estimator DecisionTreeClassifier from version 0.23.1 when using version 0.22.1. This might lead to breaking code or invalid results. Use at your own risk.\n",
      "  UserWarning)\n",
      "/conda/lib/python3.6/site-packages/sklearn/base.py:318: UserWarning: Trying to unpickle estimator RandomForestClassifier from version 0.23.1 when using version 0.22.1. This might lead to breaking code or invalid results. Use at your own risk.\n",
      "  UserWarning)\n"
     ]
    }
   ],
   "source": [
    "init_context(context)"
   ]
  },
  {
   "cell_type": "code",
   "execution_count": 48,
   "metadata": {},
   "outputs": [
    {
     "name": "stdout",
     "output_type": "stream",
     "text": [
      "Saving features to Parquet\n"
     ]
    }
   ],
   "source": [
    "event = nuclio.Event(body='', trigger={'kind': 'cron'})\n",
    "out = handler(context, event)\n",
    "out"
   ]
  },
  {
   "cell_type": "markdown",
   "metadata": {},
   "source": [
    "## Test"
   ]
  },
  {
   "cell_type": "code",
   "execution_count": 2,
   "metadata": {},
   "outputs": [],
   "source": [
    "from mlrun import code_to_function, mount_v3io"
   ]
  },
  {
   "cell_type": "code",
   "execution_count": 3,
   "metadata": {},
   "outputs": [
    {
     "data": {
      "text/plain": [
       "<mlrun.runtimes.function.RemoteRuntime at 0x7f1a8a3a7cc0>"
      ]
     },
     "execution_count": 3,
     "metadata": {},
     "output_type": "execute_result"
    }
   ],
   "source": [
    "fn = code_to_function('inference-server',\n",
    "                      kind='nuclio',\n",
    "                      project='network-operations')\n",
    "fn.spec.base_spec['spec']['build']['baseImage'] = 'mlrun/ml-models'\n",
    "fn.apply(mount_v3io())\n",
    "fn.add_trigger('cron', nuclio.triggers.CronTrigger(interval='1m'))"
   ]
  },
  {
   "cell_type": "code",
   "execution_count": 4,
   "metadata": {},
   "outputs": [
    {
     "name": "stdout",
     "output_type": "stream",
     "text": [
      "> 2020-07-22 09:36:33,030 [debug] saving function: inference-server, tag: \n",
      "> 2020-07-22 09:36:33,076 [info] function spec saved to path: ../src/inference-server.yaml\n"
     ]
    },
    {
     "data": {
      "text/plain": [
       "<mlrun.runtimes.function.RemoteRuntime at 0x7f1a8a3a7cc0>"
      ]
     },
     "execution_count": 4,
     "metadata": {},
     "output_type": "execute_result"
    }
   ],
   "source": [
    "fn.save()\n",
    "fn.export('../src/inference-server.yaml')"
   ]
  },
  {
   "cell_type": "code",
   "execution_count": 66,
   "metadata": {},
   "outputs": [
    {
     "name": "stdout",
     "output_type": "stream",
     "text": [
      "[mlrun] 2020-07-12 13:11:11,410 deploy started\n",
      "[nuclio] 2020-07-12 13:11:20,608 (info) Build complete\n",
      "[nuclio] 2020-07-12 13:11:36,801 (info) Function deploy complete\n",
      "[nuclio] 2020-07-12 13:11:36,807 done updating network-operations-inference-server, function address: 192.168.224.209:31346\n"
     ]
    },
    {
     "data": {
      "text/plain": [
       "'http://192.168.224.209:31346'"
      ]
     },
     "execution_count": 66,
     "metadata": {},
     "output_type": "execute_result"
    }
   ],
   "source": [
    "fn.deploy(project='network-operations')"
   ]
  },
  {
   "cell_type": "code",
   "execution_count": 51,
   "metadata": {},
   "outputs": [
    {
     "data": {
      "text/html": [
       "<div>\n",
       "<style scoped>\n",
       "    .dataframe tbody tr th:only-of-type {\n",
       "        vertical-align: middle;\n",
       "    }\n",
       "\n",
       "    .dataframe tbody tr th {\n",
       "        vertical-align: top;\n",
       "    }\n",
       "\n",
       "    .dataframe thead th {\n",
       "        text-align: right;\n",
       "    }\n",
       "</style>\n",
       "<table border=\"1\" class=\"dataframe\">\n",
       "  <thead>\n",
       "    <tr style=\"text-align: right;\">\n",
       "      <th></th>\n",
       "      <th></th>\n",
       "      <th></th>\n",
       "      <th></th>\n",
       "      <th>cpu_utilization</th>\n",
       "      <th>latency</th>\n",
       "      <th>packet_loss</th>\n",
       "      <th>throughput</th>\n",
       "      <th>predictions</th>\n",
       "    </tr>\n",
       "    <tr>\n",
       "      <th>timestamp</th>\n",
       "      <th>company</th>\n",
       "      <th>data_center</th>\n",
       "      <th>device</th>\n",
       "      <th></th>\n",
       "      <th></th>\n",
       "      <th></th>\n",
       "      <th></th>\n",
       "      <th></th>\n",
       "    </tr>\n",
       "  </thead>\n",
       "  <tbody>\n",
       "    <tr>\n",
       "      <th rowspan=\"6\" valign=\"top\">2020-07-12 10:42:42.074</th>\n",
       "      <th rowspan=\"2\" valign=\"top\">Jones-Smith</th>\n",
       "      <th rowspan=\"2\" valign=\"top\">Justin_Ports</th>\n",
       "      <th>1551700666269</th>\n",
       "      <td>68.173121</td>\n",
       "      <td>6.979815</td>\n",
       "      <td>0.000000</td>\n",
       "      <td>248.089786</td>\n",
       "      <td>False</td>\n",
       "    </tr>\n",
       "    <tr>\n",
       "      <th>6563505230628</th>\n",
       "      <td>84.395612</td>\n",
       "      <td>0.539184</td>\n",
       "      <td>0.000000</td>\n",
       "      <td>248.232249</td>\n",
       "      <td>False</td>\n",
       "    </tr>\n",
       "    <tr>\n",
       "      <th rowspan=\"4\" valign=\"top\">Baker-Johnson</th>\n",
       "      <th rowspan=\"2\" valign=\"top\">David_Alley</th>\n",
       "      <th>2034261575854</th>\n",
       "      <td>76.958371</td>\n",
       "      <td>0.000000</td>\n",
       "      <td>0.000000</td>\n",
       "      <td>238.849329</td>\n",
       "      <td>False</td>\n",
       "    </tr>\n",
       "    <tr>\n",
       "      <th>2175534833578</th>\n",
       "      <td>66.400887</td>\n",
       "      <td>8.233415</td>\n",
       "      <td>0.000000</td>\n",
       "      <td>248.632805</td>\n",
       "      <td>False</td>\n",
       "    </tr>\n",
       "    <tr>\n",
       "      <th rowspan=\"2\" valign=\"top\">Amanda_Club</th>\n",
       "      <th>7190547782118</th>\n",
       "      <td>73.719916</td>\n",
       "      <td>0.094930</td>\n",
       "      <td>0.000000</td>\n",
       "      <td>270.105857</td>\n",
       "      <td>False</td>\n",
       "    </tr>\n",
       "    <tr>\n",
       "      <th>1789940329694</th>\n",
       "      <td>100.000000</td>\n",
       "      <td>100.000000</td>\n",
       "      <td>50.000000</td>\n",
       "      <td>0.000000</td>\n",
       "      <td>True</td>\n",
       "    </tr>\n",
       "    <tr>\n",
       "      <th rowspan=\"8\" valign=\"top\">2020-07-12 10:42:47.074</th>\n",
       "      <th rowspan=\"4\" valign=\"top\">Jones-Smith</th>\n",
       "      <th rowspan=\"2\" valign=\"top\">Alexander_Forks</th>\n",
       "      <th>2635623113798</th>\n",
       "      <td>68.790027</td>\n",
       "      <td>0.000000</td>\n",
       "      <td>0.000000</td>\n",
       "      <td>280.462707</td>\n",
       "      <td>False</td>\n",
       "    </tr>\n",
       "    <tr>\n",
       "      <th>5409875454366</th>\n",
       "      <td>59.250415</td>\n",
       "      <td>0.048837</td>\n",
       "      <td>0.602311</td>\n",
       "      <td>232.570927</td>\n",
       "      <td>False</td>\n",
       "    </tr>\n",
       "    <tr>\n",
       "      <th rowspan=\"2\" valign=\"top\">Justin_Ports</th>\n",
       "      <th>1551700666269</th>\n",
       "      <td>82.389219</td>\n",
       "      <td>0.000000</td>\n",
       "      <td>0.000000</td>\n",
       "      <td>245.247448</td>\n",
       "      <td>False</td>\n",
       "    </tr>\n",
       "    <tr>\n",
       "      <th>6563505230628</th>\n",
       "      <td>63.886912</td>\n",
       "      <td>7.110852</td>\n",
       "      <td>0.000000</td>\n",
       "      <td>239.023515</td>\n",
       "      <td>False</td>\n",
       "    </tr>\n",
       "    <tr>\n",
       "      <th rowspan=\"4\" valign=\"top\">Baker-Johnson</th>\n",
       "      <th rowspan=\"2\" valign=\"top\">David_Alley</th>\n",
       "      <th>2034261575854</th>\n",
       "      <td>87.791880</td>\n",
       "      <td>4.754811</td>\n",
       "      <td>0.000000</td>\n",
       "      <td>214.888362</td>\n",
       "      <td>False</td>\n",
       "    </tr>\n",
       "    <tr>\n",
       "      <th>2175534833578</th>\n",
       "      <td>64.254763</td>\n",
       "      <td>6.196219</td>\n",
       "      <td>0.908328</td>\n",
       "      <td>261.528524</td>\n",
       "      <td>False</td>\n",
       "    </tr>\n",
       "    <tr>\n",
       "      <th rowspan=\"2\" valign=\"top\">Amanda_Club</th>\n",
       "      <th>7190547782118</th>\n",
       "      <td>84.269312</td>\n",
       "      <td>0.000000</td>\n",
       "      <td>0.000000</td>\n",
       "      <td>277.856878</td>\n",
       "      <td>False</td>\n",
       "    </tr>\n",
       "    <tr>\n",
       "      <th>1789940329694</th>\n",
       "      <td>100.000000</td>\n",
       "      <td>100.000000</td>\n",
       "      <td>50.000000</td>\n",
       "      <td>0.000000</td>\n",
       "      <td>True</td>\n",
       "    </tr>\n",
       "    <tr>\n",
       "      <th rowspan=\"8\" valign=\"top\">2020-07-12 10:42:52.074</th>\n",
       "      <th rowspan=\"4\" valign=\"top\">Jones-Smith</th>\n",
       "      <th rowspan=\"2\" valign=\"top\">Alexander_Forks</th>\n",
       "      <th>2635623113798</th>\n",
       "      <td>66.760976</td>\n",
       "      <td>0.000000</td>\n",
       "      <td>0.755379</td>\n",
       "      <td>262.444166</td>\n",
       "      <td>False</td>\n",
       "    </tr>\n",
       "    <tr>\n",
       "      <th>5409875454366</th>\n",
       "      <td>61.784340</td>\n",
       "      <td>0.000000</td>\n",
       "      <td>50.000000</td>\n",
       "      <td>0.000000</td>\n",
       "      <td>False</td>\n",
       "    </tr>\n",
       "    <tr>\n",
       "      <th rowspan=\"2\" valign=\"top\">Justin_Ports</th>\n",
       "      <th>1551700666269</th>\n",
       "      <td>80.144072</td>\n",
       "      <td>0.000000</td>\n",
       "      <td>0.960967</td>\n",
       "      <td>245.314617</td>\n",
       "      <td>False</td>\n",
       "    </tr>\n",
       "    <tr>\n",
       "      <th>6563505230628</th>\n",
       "      <td>59.758751</td>\n",
       "      <td>0.000000</td>\n",
       "      <td>2.093300</td>\n",
       "      <td>281.121632</td>\n",
       "      <td>False</td>\n",
       "    </tr>\n",
       "    <tr>\n",
       "      <th rowspan=\"4\" valign=\"top\">Baker-Johnson</th>\n",
       "      <th rowspan=\"2\" valign=\"top\">David_Alley</th>\n",
       "      <th>2034261575854</th>\n",
       "      <td>66.692405</td>\n",
       "      <td>14.182723</td>\n",
       "      <td>1.604394</td>\n",
       "      <td>246.468535</td>\n",
       "      <td>False</td>\n",
       "    </tr>\n",
       "    <tr>\n",
       "      <th>2175534833578</th>\n",
       "      <td>65.643079</td>\n",
       "      <td>0.546343</td>\n",
       "      <td>0.000000</td>\n",
       "      <td>224.974277</td>\n",
       "      <td>False</td>\n",
       "    </tr>\n",
       "    <tr>\n",
       "      <th rowspan=\"2\" valign=\"top\">Amanda_Club</th>\n",
       "      <th>7190547782118</th>\n",
       "      <td>71.302042</td>\n",
       "      <td>6.599757</td>\n",
       "      <td>1.839429</td>\n",
       "      <td>232.376164</td>\n",
       "      <td>False</td>\n",
       "    </tr>\n",
       "    <tr>\n",
       "      <th>1789940329694</th>\n",
       "      <td>100.000000</td>\n",
       "      <td>100.000000</td>\n",
       "      <td>50.000000</td>\n",
       "      <td>0.000000</td>\n",
       "      <td>True</td>\n",
       "    </tr>\n",
       "  </tbody>\n",
       "</table>\n",
       "</div>"
      ],
      "text/plain": [
       "                                                                     cpu_utilization  \\\n",
       "timestamp               company       data_center     device                           \n",
       "2020-07-12 10:42:42.074 Jones-Smith   Justin_Ports    1551700666269        68.173121   \n",
       "                                                      6563505230628        84.395612   \n",
       "                        Baker-Johnson David_Alley     2034261575854        76.958371   \n",
       "                                                      2175534833578        66.400887   \n",
       "                                      Amanda_Club     7190547782118        73.719916   \n",
       "                                                      1789940329694       100.000000   \n",
       "2020-07-12 10:42:47.074 Jones-Smith   Alexander_Forks 2635623113798        68.790027   \n",
       "                                                      5409875454366        59.250415   \n",
       "                                      Justin_Ports    1551700666269        82.389219   \n",
       "                                                      6563505230628        63.886912   \n",
       "                        Baker-Johnson David_Alley     2034261575854        87.791880   \n",
       "                                                      2175534833578        64.254763   \n",
       "                                      Amanda_Club     7190547782118        84.269312   \n",
       "                                                      1789940329694       100.000000   \n",
       "2020-07-12 10:42:52.074 Jones-Smith   Alexander_Forks 2635623113798        66.760976   \n",
       "                                                      5409875454366        61.784340   \n",
       "                                      Justin_Ports    1551700666269        80.144072   \n",
       "                                                      6563505230628        59.758751   \n",
       "                        Baker-Johnson David_Alley     2034261575854        66.692405   \n",
       "                                                      2175534833578        65.643079   \n",
       "                                      Amanda_Club     7190547782118        71.302042   \n",
       "                                                      1789940329694       100.000000   \n",
       "\n",
       "                                                                        latency  \\\n",
       "timestamp               company       data_center     device                      \n",
       "2020-07-12 10:42:42.074 Jones-Smith   Justin_Ports    1551700666269    6.979815   \n",
       "                                                      6563505230628    0.539184   \n",
       "                        Baker-Johnson David_Alley     2034261575854    0.000000   \n",
       "                                                      2175534833578    8.233415   \n",
       "                                      Amanda_Club     7190547782118    0.094930   \n",
       "                                                      1789940329694  100.000000   \n",
       "2020-07-12 10:42:47.074 Jones-Smith   Alexander_Forks 2635623113798    0.000000   \n",
       "                                                      5409875454366    0.048837   \n",
       "                                      Justin_Ports    1551700666269    0.000000   \n",
       "                                                      6563505230628    7.110852   \n",
       "                        Baker-Johnson David_Alley     2034261575854    4.754811   \n",
       "                                                      2175534833578    6.196219   \n",
       "                                      Amanda_Club     7190547782118    0.000000   \n",
       "                                                      1789940329694  100.000000   \n",
       "2020-07-12 10:42:52.074 Jones-Smith   Alexander_Forks 2635623113798    0.000000   \n",
       "                                                      5409875454366    0.000000   \n",
       "                                      Justin_Ports    1551700666269    0.000000   \n",
       "                                                      6563505230628    0.000000   \n",
       "                        Baker-Johnson David_Alley     2034261575854   14.182723   \n",
       "                                                      2175534833578    0.546343   \n",
       "                                      Amanda_Club     7190547782118    6.599757   \n",
       "                                                      1789940329694  100.000000   \n",
       "\n",
       "                                                                     packet_loss  \\\n",
       "timestamp               company       data_center     device                       \n",
       "2020-07-12 10:42:42.074 Jones-Smith   Justin_Ports    1551700666269     0.000000   \n",
       "                                                      6563505230628     0.000000   \n",
       "                        Baker-Johnson David_Alley     2034261575854     0.000000   \n",
       "                                                      2175534833578     0.000000   \n",
       "                                      Amanda_Club     7190547782118     0.000000   \n",
       "                                                      1789940329694    50.000000   \n",
       "2020-07-12 10:42:47.074 Jones-Smith   Alexander_Forks 2635623113798     0.000000   \n",
       "                                                      5409875454366     0.602311   \n",
       "                                      Justin_Ports    1551700666269     0.000000   \n",
       "                                                      6563505230628     0.000000   \n",
       "                        Baker-Johnson David_Alley     2034261575854     0.000000   \n",
       "                                                      2175534833578     0.908328   \n",
       "                                      Amanda_Club     7190547782118     0.000000   \n",
       "                                                      1789940329694    50.000000   \n",
       "2020-07-12 10:42:52.074 Jones-Smith   Alexander_Forks 2635623113798     0.755379   \n",
       "                                                      5409875454366    50.000000   \n",
       "                                      Justin_Ports    1551700666269     0.960967   \n",
       "                                                      6563505230628     2.093300   \n",
       "                        Baker-Johnson David_Alley     2034261575854     1.604394   \n",
       "                                                      2175534833578     0.000000   \n",
       "                                      Amanda_Club     7190547782118     1.839429   \n",
       "                                                      1789940329694    50.000000   \n",
       "\n",
       "                                                                     throughput  \\\n",
       "timestamp               company       data_center     device                      \n",
       "2020-07-12 10:42:42.074 Jones-Smith   Justin_Ports    1551700666269  248.089786   \n",
       "                                                      6563505230628  248.232249   \n",
       "                        Baker-Johnson David_Alley     2034261575854  238.849329   \n",
       "                                                      2175534833578  248.632805   \n",
       "                                      Amanda_Club     7190547782118  270.105857   \n",
       "                                                      1789940329694    0.000000   \n",
       "2020-07-12 10:42:47.074 Jones-Smith   Alexander_Forks 2635623113798  280.462707   \n",
       "                                                      5409875454366  232.570927   \n",
       "                                      Justin_Ports    1551700666269  245.247448   \n",
       "                                                      6563505230628  239.023515   \n",
       "                        Baker-Johnson David_Alley     2034261575854  214.888362   \n",
       "                                                      2175534833578  261.528524   \n",
       "                                      Amanda_Club     7190547782118  277.856878   \n",
       "                                                      1789940329694    0.000000   \n",
       "2020-07-12 10:42:52.074 Jones-Smith   Alexander_Forks 2635623113798  262.444166   \n",
       "                                                      5409875454366    0.000000   \n",
       "                                      Justin_Ports    1551700666269  245.314617   \n",
       "                                                      6563505230628  281.121632   \n",
       "                        Baker-Johnson David_Alley     2034261575854  246.468535   \n",
       "                                                      2175534833578  224.974277   \n",
       "                                      Amanda_Club     7190547782118  232.376164   \n",
       "                                                      1789940329694    0.000000   \n",
       "\n",
       "                                                                     predictions  \n",
       "timestamp               company       data_center     device                      \n",
       "2020-07-12 10:42:42.074 Jones-Smith   Justin_Ports    1551700666269        False  \n",
       "                                                      6563505230628        False  \n",
       "                        Baker-Johnson David_Alley     2034261575854        False  \n",
       "                                                      2175534833578        False  \n",
       "                                      Amanda_Club     7190547782118        False  \n",
       "                                                      1789940329694         True  \n",
       "2020-07-12 10:42:47.074 Jones-Smith   Alexander_Forks 2635623113798        False  \n",
       "                                                      5409875454366        False  \n",
       "                                      Justin_Ports    1551700666269        False  \n",
       "                                                      6563505230628        False  \n",
       "                        Baker-Johnson David_Alley     2034261575854        False  \n",
       "                                                      2175534833578        False  \n",
       "                                      Amanda_Club     7190547782118        False  \n",
       "                                                      1789940329694         True  \n",
       "2020-07-12 10:42:52.074 Jones-Smith   Alexander_Forks 2635623113798        False  \n",
       "                                                      5409875454366        False  \n",
       "                                      Justin_Ports    1551700666269        False  \n",
       "                                                      6563505230628        False  \n",
       "                        Baker-Johnson David_Alley     2034261575854        False  \n",
       "                                                      2175534833578        False  \n",
       "                                      Amanda_Club     7190547782118        False  \n",
       "                                                      1789940329694         True  "
      ]
     },
     "execution_count": 51,
     "metadata": {},
     "output_type": "execute_result"
    }
   ],
   "source": [
    "pd.read_parquet('../streaming/inference_pq/20200712T104242-20200712T104252.parquet')"
   ]
  }
 ],
 "metadata": {
  "kernelspec": {
   "display_name": "Python 3",
   "language": "python",
   "name": "python3"
  },
  "language_info": {
   "codemirror_mode": {
    "name": "ipython",
    "version": 3
   },
   "file_extension": ".py",
   "mimetype": "text/x-python",
   "name": "python",
   "nbconvert_exporter": "python",
   "pygments_lexer": "ipython3",
   "version": "3.6.8"
  }
 },
 "nbformat": 4,
 "nbformat_minor": 4
}
